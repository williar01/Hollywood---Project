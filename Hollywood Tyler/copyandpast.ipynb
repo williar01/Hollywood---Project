{
 "cells": [
  {
   "cell_type": "code",
   "execution_count": null,
   "id": "ec498d82",
   "metadata": {},
   "outputs": [],
   "source": [
    "#TYLER'S SPECIFIC IMPORTS \n",
    "#reading in the data for my analysis and cleaning it\n",
    "annual_ticket_sales_tycopy = pd.read_csv(f\"{file_path}/AnnualTicketSales.csv\", index_col=\"YEAR\")\n",
    "annual_ticket_sales_tycopy['TICKETS SOLD'] = annual_ticket_sales_tycopy['TICKETS SOLD'].str.replace(',','')\n",
    "annual_ticket_sales_tycopy['TICKETS SOLD'] = annual_ticket_sales_tycopy['TICKETS SOLD'].astype(int)\n",
    "\n",
    "file_path_imdb_faces = Path(\"Data/movie_data_faces_cleaned.csv\")\n",
    "imdb_modified_data = pd.read_csv(file_path_imdb_faces, index_col = 'title_year')\n",
    "\n",
    "file_path_imdb_faces = Path(\"Data/all_movies_faces_analysis.csv\")\n",
    "all_movies_faces = pd.read_csv(file_path_imdb_faces, index_col = 'title_year')\n",
    "all_movies_faces.drop(columns = ['Unnamed: 0'],inplace = True)\n"
   ]
  },
  {
   "cell_type": "markdown",
   "id": "5f08d299",
   "metadata": {},
   "source": [
    "# Study 2 - Let's Check the Relationship Between the Price of a Ticket and The Amount of Tickets Sold. \n",
    "We are first going to look at how many tickets have been sold each year from 1995 to 2021 and the average ticket prices from 1995 to 2021."
   ]
  },
  {
   "cell_type": "code",
   "execution_count": null,
   "id": "ddfd27cb",
   "metadata": {},
   "outputs": [],
   "source": [
    "#this shows the amount of tickets sold from 1995 to 2021\n",
    "ticket_sales_bar = px.bar(annual_ticket_sales_tycopy, x = annual_ticket_sales_tycopy.index ,\n",
    "        y = ['TICKETS SOLD'], title = 'Total Tickets sold per Year'\n",
    ")\n",
    "ticket_sales_bar.show()"
   ]
  },
  {
   "cell_type": "code",
   "execution_count": null,
   "id": "8e8679b8",
   "metadata": {},
   "outputs": [],
   "source": [
    "#this shows how the average ticket price has increased over the years (no inflation)\n",
    "ticket_price_line = px.line(\n",
    "  annual_ticket_sales_copy, x=annual_ticket_sales_copy.index, y='AVERAGE TICKET PRICE', \n",
    "    title = 'How Average Ticket Prices have Increased by Year (not adjusted for inflation)'\n",
    ")\n",
    "ticket_price_line"
   ]
  },
  {
   "cell_type": "markdown",
   "id": "212f4d4d",
   "metadata": {},
   "source": [
    "## Let's see how Ticket Sales are correlated with Average Movie Price and The Box office.\n",
    "As you can see average ticket price has a negative correlation with the amount of tickets sold.\n",
    "As ticket prices get higher,less tickets are sold, which will be show below in scatter plot. \n",
    "However, as ticket prices get higher, the total box office goes up.\n",
    "\n",
    "---\n",
    "Conclusion: Studios would rather have less consumers but have increased prices because the higher ticket price results in more money for the studio\n"
   ]
  },
  {
   "cell_type": "code",
   "execution_count": null,
   "id": "69f424b8",
   "metadata": {},
   "outputs": [],
   "source": [
    "#shows correlatinos between each variable. Positive number means positive correlation, negative means negative correlation. \n",
    "annual_ticket_sales_tycopy.corr()"
   ]
  },
  {
   "cell_type": "code",
   "execution_count": null,
   "id": "468de3b3",
   "metadata": {},
   "outputs": [],
   "source": [
    "#visualize correlations, focus on the first 2 columns. \n",
    "sns.heatmap(annual_ticket_sales_tycopy.corr(), vmin = -1, vmax = 1)"
   ]
  },
  {
   "cell_type": "code",
   "execution_count": null,
   "id": "03e33c02",
   "metadata": {},
   "outputs": [],
   "source": [
    "#this shows the relationship between average ticket price and the amount of tickets sold.\n",
    "#This is post-pandemic, this visualizes that there is a negative correlation between these varibales.\n",
    "ticket_relationship = px.scatter(\n",
    "  annual_ticket_sales_tycopy, x= 'AVERAGE TICKET PRICE', y='TICKETS SOLD', trendline = 'ols',\n",
    "    title = 'Average Ticket Price vs. Tickets Sold'\n",
    ")\n",
    "ticket_relationship.show()"
   ]
  },
  {
   "cell_type": "markdown",
   "id": "21b5a8a8",
   "metadata": {},
   "source": [
    "Maybe COVID is an outlier, but realistically there's no reason to consider it an outlier since it's our reality. I'm sure over time tickets sold will get higher. I doubt the amount of tickets sold will ever be as high as it was anytime soon.\n",
    "This is because ticket prices are rising every year and many families would probably rather just stay home and rent a movie or utilize a streaming service. By looking at stock prices for each of these studios during the pandemmic, you can see how these studios have thrived, but movie theaters have not. I'm very certain of this hypothesis."
   ]
  },
  {
   "cell_type": "markdown",
   "id": "eca083b2",
   "metadata": {},
   "source": [
    "## What about pre-pandemic ?"
   ]
  },
  {
   "cell_type": "code",
   "execution_count": null,
   "id": "0238c901",
   "metadata": {},
   "outputs": [],
   "source": [
    "#looks at years with no covid\n",
    "no_covid = annual_ticket_sales_tycopy.iloc[2:]\n",
    "no_covid.corr()\n"
   ]
  },
  {
   "cell_type": "markdown",
   "id": "c3731399",
   "metadata": {},
   "source": [
    "As you can see, there is still a negative correlation with tickets sold vs average ticket prices.\n",
    "\n",
    "Still, it seeems studios/movie theaters would rather have a higher ticket price to make more money (less customers) rather\n",
    "than have a cheap ticket price with more customers. "
   ]
  },
  {
   "cell_type": "code",
   "execution_count": null,
   "id": "756b055c",
   "metadata": {},
   "outputs": [],
   "source": [
    "#this visualizes how there is still a negative correlation between Average ticket price and tickets sold\n",
    "ticket_relationship_nocovid = px.scatter(\n",
    "  no_covid, x= 'AVERAGE TICKET PRICE', y='TICKETS SOLD', trendline = 'ols', title = 'Average Ticket Price vs. Tickets Sold (Pre-Pandemic)'\n",
    ")\n",
    "ticket_relationship_nocovid.show()"
   ]
  },
  {
   "cell_type": "markdown",
   "id": "614fa670",
   "metadata": {},
   "source": [
    "# Study 3 - Do the number of faces on a movie poster influence the amount of tickets sold?"
   ]
  },
  {
   "cell_type": "markdown",
   "id": "e870d2e5",
   "metadata": {},
   "source": [
    "'Number of Faces' contain the amount of actors faces, doesn't count CGI characters, or characters with a mask covering their face, like Batman. Shrek and Toy Story are outliers for this data (everything else I checked to make sure it was accurate). "
   ]
  },
  {
   "cell_type": "markdown",
   "id": "91c551c6",
   "metadata": {},
   "source": [
    "The Highest Grossers data lists the top grossing movie for each year based on the tickets sold for each movie during the course of that respective year and also its corresponding year 2019 valuation(adjusted for inflation), Only in North America"
   ]
  },
  {
   "cell_type": "code",
   "execution_count": null,
   "id": "86e37ee5",
   "metadata": {},
   "outputs": [],
   "source": [
    "#creates hv bar plot showing top grossing movies and how many faces were on the theatrical poster\n",
    "top_gross_faces = imdb_modified_data.hvplot.bar(x = 'MOVIE', y = 'facenumber_in_poster',\n",
    "                                                rot = 90, width = 700, height = 500,\n",
    "                                               title = 'Number of Faces on Theatrical Poster for Highest Grossing Movies (US)')"
   ]
  },
  {
   "cell_type": "code",
   "execution_count": null,
   "id": "81ae5cb2",
   "metadata": {},
   "outputs": [],
   "source": [
    "#creats hv bar plot showing how many tickets each of the top grossing films sold\n",
    "tickets_sold = imdb_modified_data.hvplot.bar(x = 'MOVIE', y = ' TICKETS SOLD ',\n",
    "                                             rot = 90, width = 700, height = 500,\n",
    "                                            title = 'Tickets sold for Highest Grossing Movies(US)').opts(yformatter=\"%.0f\")"
   ]
  },
  {
   "cell_type": "code",
   "execution_count": null,
   "id": "9b805879",
   "metadata": {},
   "outputs": [],
   "source": [
    "#this displays both of the hv plots created above, side by side\n",
    "pn.Row(tickets_sold, top_gross_faces)"
   ]
  },
  {
   "cell_type": "code",
   "execution_count": null,
   "id": "cdac23ae",
   "metadata": {},
   "outputs": [],
   "source": [
    "#shows relationship between tickets sold and imdb_score, with size of bubble indiates the amount of faces\n",
    "imdb_ticketssold = px.scatter(\n",
    "  imdb_modified_data, x='imdb_score', y=' TICKETS SOLD ', size = 'facenumber_in_poster', trendline = 'ols',\n",
    "    title = 'Imdb Score vs Tickets Sold for Top Grossing Movies in US', labels = { 'imdb_score':'Imdb Score'}, height = 500\n",
    ")\n",
    "imdb_ticketssold\n",
    "#other scatter plot visualizations using this data wasn't as good comprehensive"
   ]
  },
  {
   "cell_type": "code",
   "execution_count": null,
   "id": "60307a57",
   "metadata": {},
   "outputs": [],
   "source": [
    "faces_gross = px.scatter(\n",
    "  imdb_modified_data, x='facenumber_in_poster', y='TOTAL FOR YEAR', size = 'imdb_score', trendline = 'ols',\n",
    "    title = 'Number of Faces on Theatrical Poster vs Total Gross (US)', \n",
    "    labels = { 'facenumber_in_poster':'Number of Faces on Poster'}, height = 500\n",
    ")\n",
    "faces_gross\n",
    "#recall: Top grossing movie for each year based on the tickets sold for each movie during the course of that respective year"
   ]
  },
  {
   "cell_type": "markdown",
   "id": "2779097b",
   "metadata": {},
   "source": [
    "For the highest grossing films per year (US) you can see there is a positive correlation between every variable.\n",
    "Specifically, the number of faces is most correlated with the total earning per year and the amount of tickets sold (total per year is without inflation which is what I'm referring to).\n",
    "\n",
    "There is also a SLIGHT positive correlation between the number of faces on the poster and the imdb score. So the number of faces on a poster could possibly influence the imdb score.  \n",
    "\n",
    "Additionally, it seems the imdb score has more to do with success than the number of faces on the poster.\n",
    "The imdb score is more correlated with tickets sold than the number of faces on poster are.\n"
   ]
  },
  {
   "cell_type": "code",
   "execution_count": null,
   "id": "36df918d",
   "metadata": {},
   "outputs": [],
   "source": [
    "#for the top grossing films per year\n",
    "imdb_modified_data.corr()"
   ]
  },
  {
   "cell_type": "markdown",
   "id": "805bb7d0",
   "metadata": {},
   "source": [
    "My conclusion is, if there are more faces on the poster, and the imdb score is good then it results in more tickets sold and higher box office earnings."
   ]
  },
  {
   "cell_type": "code",
   "execution_count": null,
   "id": "751d7bc6",
   "metadata": {},
   "outputs": [],
   "source": [
    "#correlations visualized \n",
    "sns.heatmap(imdb_modified_data.corr(), vmin = -1, vmax = 1)\n",
    "#lighter means more correlated, focus on first 2 columns"
   ]
  },
  {
   "cell_type": "markdown",
   "id": "0a622424",
   "metadata": {},
   "source": [
    "Lastly, we'll analyze how the number of faces on theatrical poster correlates with ALL movies (dataset includes all countries), by comparing the number of faces on the theatrical poster with the total gross"
   ]
  },
  {
   "cell_type": "code",
   "execution_count": null,
   "id": "8569eff3",
   "metadata": {},
   "outputs": [],
   "source": [
    "#shows correlation for overall, all movies, multiple countries\n",
    "all_movies_faces.corr() "
   ]
  },
  {
   "cell_type": "markdown",
   "id": "ea292e8c",
   "metadata": {},
   "source": [
    "This data set also contains ALL movies, where as before only considered the TOP movies in the US per theatrical year.\n",
    "\n",
    "---\n",
    "This actually shows that there is a slight negative correlation between number of faces on poster and the imdb score. \n",
    "I think this might have something to do with too many characters making a movie worse, but it means more money for the studio. \n",
    "The first thing that comes to mind are movies like 'EPIC movie' and other similar satire films with multiple faces on poster. \n",
    "However number of faces on the poster still tends to correlate with more gross for a film. \n",
    "Additionally, similar to before, the imdb score has the most to do with the gross. \n"
   ]
  }
 ],
 "metadata": {
  "kernelspec": {
   "display_name": "Python [conda env:pyvizenv] *",
   "language": "python",
   "name": "conda-env-pyvizenv-py"
  },
  "language_info": {
   "codemirror_mode": {
    "name": "ipython",
    "version": 3
   },
   "file_extension": ".py",
   "mimetype": "text/x-python",
   "name": "python",
   "nbconvert_exporter": "python",
   "pygments_lexer": "ipython3",
   "version": "3.7.11"
  }
 },
 "nbformat": 4,
 "nbformat_minor": 5
}
